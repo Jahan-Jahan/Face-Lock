{
 "cells": [
  {
   "cell_type": "code",
   "execution_count": null,
   "metadata": {},
   "outputs": [],
   "source": [
    "import cv2\n",
    "import glob\n",
    "import numpy as np\n",
    "import matplotlib.pyplot as plt\n",
    "from PIL import Image\n",
    "from deepface import DeepFace\n",
    "from keras_facenet import FaceNet\n",
    "from scipy.spatial.distance import cosine"
   ]
  },
  {
   "cell_type": "code",
   "execution_count": null,
   "metadata": {},
   "outputs": [],
   "source": [
    "my_images = glob.glob(\"../my_images2/*\")\n",
    "\n",
    "facenet = FaceNet()\n",
    "face_detector = cv2.CascadeClassifier(cv2.data.haarcascades + \"haarcascade_frontalface_default.xml\")\n",
    "\n",
    "def image_embedding(img):\n",
    "    gray = cv2.cvtColor(img, cv2.COLOR_BGR2GRAY)\n",
    "\n",
    "    faces = face_detector.detectMultiScale(gray, 1.1, 4)\n",
    "\n",
    "    if len(faces) == 0:\n",
    "        return None\n",
    "    \n",
    "    x, y, w, h = faces[0]\n",
    "    face_crop = img[y:y+h, x:x+w]\n",
    "\n",
    "    face_crop = cv2.resize(face_crop, dsize=(224, 224))\n",
    "    face_crop = np.expand_dims(face_crop / 255.0, axis=0)\n",
    "\n",
    "    embedding = facenet.embeddings(face_crop)\n",
    "    return embedding[0], (x, y, w, h)"
   ]
  },
  {
   "cell_type": "code",
   "execution_count": null,
   "metadata": {},
   "outputs": [],
   "source": [
    "def extract_embeddings():\n",
    "    embeddings = []\n",
    "    for img_path in my_images:\n",
    "        img = cv2.imread(img_path)\n",
    "        try:\n",
    "            embedding, _ = image_embedding(img)\n",
    "            embedding = np.array(embedding)\n",
    "            embeddings.append(embedding)\n",
    "        except:\n",
    "            print(\"No face detected.\")\n",
    "    return embeddings\n",
    "\n",
    "embeddings = extract_embeddings()"
   ]
  },
  {
   "cell_type": "code",
   "execution_count": null,
   "metadata": {},
   "outputs": [],
   "source": [
    "def is_it_me(img):\n",
    "    try:\n",
    "        test_embedding, face_info = image_embedding(img)\n",
    "    except:\n",
    "        print(\"No face detected!\")\n",
    "\n",
    "    for emb in embeddings:\n",
    "        similarity = 1 - cosine(emb, test_embedding)\n",
    "        print(similarity)\n",
    "        if similarity > 0.7:\n",
    "            return test_embedding, True, face_info\n",
    "        \n",
    "    return test_embedding, False, face_info\n",
    "\n",
    "test_img = cv2.imread(\"../test_images/test.jpg\")\n",
    "embedding, result, face_info = is_it_me(test_img)\n",
    "print(\"This is you, Abolfazl!\") if result else print(\"This is not you.\")"
   ]
  },
  {
   "cell_type": "code",
   "execution_count": null,
   "metadata": {},
   "outputs": [],
   "source": [
    "cam = cv2.VideoCapture(0)\n",
    "cv2.namedWindow(\"Abolfazl Detector\")\n",
    "\n",
    "while True:\n",
    "    ret, frame = cam.read()\n",
    "    if not ret:\n",
    "        print(\"Failed to grab frame\")\n",
    "        break\n",
    "    \n",
    "    if cv2.waitKey(1) & 0xFF == 13:\n",
    "        embedding, result, face_info = is_it_me(frame)\n",
    "\n",
    "        if result:\n",
    "            print(embedding[:5])\n",
    "            x, y, w, h = face_info\n",
    "\n",
    "            text = \"This is you, Abolfazl!\" if result else print(\"This is not you.\")\n",
    "            color = (0, 255, 0) if result else (0, 0, 255)\n",
    "            \n",
    "            cv2.rectangle(frame, (x, y), (x + w, y + h), color, 2)\n",
    "\n",
    "            cv2.putText(frame, text, (x, y - 10), cv2.FONT_HERSHEY_SIMPLEX, \n",
    "                                0.8, color, 2, cv2.LINE_AA)\n",
    "            \n",
    "            cv2.imshow(\"Abolfazl Detector\", frame)\n",
    "\n",
    "    if cv2.waitKey(1) & 0xFF == ord('q'):\n",
    "        break\n",
    "\n",
    "cam.release()\n",
    "cv2.destroyAllWindows()"
   ]
  }
 ],
 "metadata": {
  "kernelspec": {
   "display_name": "tf_env_py311",
   "language": "python",
   "name": "python3"
  },
  "language_info": {
   "codemirror_mode": {
    "name": "ipython",
    "version": 3
   },
   "file_extension": ".py",
   "mimetype": "text/x-python",
   "name": "python",
   "nbconvert_exporter": "python",
   "pygments_lexer": "ipython3",
   "version": "3.11.11"
  }
 },
 "nbformat": 4,
 "nbformat_minor": 2
}
